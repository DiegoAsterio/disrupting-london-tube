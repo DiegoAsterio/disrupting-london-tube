{
 "cells": [
  {
   "cell_type": "markdown",
   "metadata": {},
   "source": [
    "# How many ways of disconnenting the London Tube exist"
   ]
  },
  {
   "cell_type": "markdown",
   "metadata": {},
   "source": [
    "The London Tube can be naturally seen as a connected graph (this is so natural that is the [official representation](https://en.wikipedia.org/wiki/Tube_map). This connectiveness is a property that is used on a daily basis for every commuter in London. \n",
    "\n",
    "But **how weak is this transport network?** We say that a node in a graph is an articulation vertex if its removal [disconnects the graph](https://mathworld.wolfram.com/ArticulationVertex.html). We are going to count how many articulation vertices does the London Tube have."
   ]
  },
  {
   "cell_type": "markdown",
   "metadata": {},
   "source": [
    "For this little experiment we are going to use the help of the libraries Pandas and NetworkX."
   ]
  },
  {
   "cell_type": "code",
   "execution_count": 10,
   "metadata": {},
   "outputs": [],
   "source": [
    "import pandas as pd\n",
    "import networkx as nx"
   ]
  },
  {
   "cell_type": "markdown",
   "metadata": {},
   "source": [
    "Thanks to [this library](https://github.com/nicola/tubemaps) we have CSVs for the london tube lines, stations and connections. We place them inside three Pandas DataFrames:"
   ]
  },
  {
   "cell_type": "code",
   "execution_count": 2,
   "metadata": {},
   "outputs": [],
   "source": [
    "lines       = pd.read_csv('london.lines.csv', index_col=0)\n",
    "stations    = pd.read_csv('london.stations.csv', index_col=0)\n",
    "connections = pd.read_csv('london.connections.csv')"
   ]
  },
  {
   "cell_type": "code",
   "execution_count": 3,
   "metadata": {},
   "outputs": [
    {
     "data": {
      "text/html": [
       "<div>\n",
       "<style scoped>\n",
       "    .dataframe tbody tr th:only-of-type {\n",
       "        vertical-align: middle;\n",
       "    }\n",
       "\n",
       "    .dataframe tbody tr th {\n",
       "        vertical-align: top;\n",
       "    }\n",
       "\n",
       "    .dataframe thead th {\n",
       "        text-align: right;\n",
       "    }\n",
       "</style>\n",
       "<table border=\"1\" class=\"dataframe\">\n",
       "  <thead>\n",
       "    <tr style=\"text-align: right;\">\n",
       "      <th></th>\n",
       "      <th>name</th>\n",
       "      <th>colour</th>\n",
       "      <th>stripe</th>\n",
       "    </tr>\n",
       "    <tr>\n",
       "      <th>line</th>\n",
       "      <th></th>\n",
       "      <th></th>\n",
       "      <th></th>\n",
       "    </tr>\n",
       "  </thead>\n",
       "  <tbody>\n",
       "    <tr>\n",
       "      <th>1</th>\n",
       "      <td>Bakerloo Line</td>\n",
       "      <td>AE6017</td>\n",
       "      <td>NaN</td>\n",
       "    </tr>\n",
       "    <tr>\n",
       "      <th>3</th>\n",
       "      <td>Circle Line</td>\n",
       "      <td>FFE02B</td>\n",
       "      <td>NaN</td>\n",
       "    </tr>\n",
       "    <tr>\n",
       "      <th>6</th>\n",
       "      <td>Hammersmith &amp; City Line</td>\n",
       "      <td>F491A8</td>\n",
       "      <td>NaN</td>\n",
       "    </tr>\n",
       "  </tbody>\n",
       "</table>\n",
       "</div>"
      ],
      "text/plain": [
       "                         name  colour stripe\n",
       "line                                        \n",
       "1               Bakerloo Line  AE6017    NaN\n",
       "3                 Circle Line  FFE02B    NaN\n",
       "6     Hammersmith & City Line  F491A8    NaN"
      ]
     },
     "execution_count": 3,
     "metadata": {},
     "output_type": "execute_result"
    }
   ],
   "source": [
    "lines.head(3)"
   ]
  },
  {
   "cell_type": "code",
   "execution_count": 4,
   "metadata": {},
   "outputs": [
    {
     "data": {
      "text/html": [
       "<div>\n",
       "<style scoped>\n",
       "    .dataframe tbody tr th:only-of-type {\n",
       "        vertical-align: middle;\n",
       "    }\n",
       "\n",
       "    .dataframe tbody tr th {\n",
       "        vertical-align: top;\n",
       "    }\n",
       "\n",
       "    .dataframe thead th {\n",
       "        text-align: right;\n",
       "    }\n",
       "</style>\n",
       "<table border=\"1\" class=\"dataframe\">\n",
       "  <thead>\n",
       "    <tr style=\"text-align: right;\">\n",
       "      <th></th>\n",
       "      <th>latitude</th>\n",
       "      <th>longitude</th>\n",
       "      <th>name</th>\n",
       "      <th>display_name</th>\n",
       "      <th>zone</th>\n",
       "      <th>total_lines</th>\n",
       "      <th>rail</th>\n",
       "    </tr>\n",
       "    <tr>\n",
       "      <th>id</th>\n",
       "      <th></th>\n",
       "      <th></th>\n",
       "      <th></th>\n",
       "      <th></th>\n",
       "      <th></th>\n",
       "      <th></th>\n",
       "      <th></th>\n",
       "    </tr>\n",
       "  </thead>\n",
       "  <tbody>\n",
       "    <tr>\n",
       "      <th>1</th>\n",
       "      <td>51.5028</td>\n",
       "      <td>-0.2801</td>\n",
       "      <td>Acton Town</td>\n",
       "      <td>Acton&lt;br /&gt;Town</td>\n",
       "      <td>3.0</td>\n",
       "      <td>2</td>\n",
       "      <td>0</td>\n",
       "    </tr>\n",
       "    <tr>\n",
       "      <th>2</th>\n",
       "      <td>51.5143</td>\n",
       "      <td>-0.0755</td>\n",
       "      <td>Aldgate</td>\n",
       "      <td>NaN</td>\n",
       "      <td>1.0</td>\n",
       "      <td>2</td>\n",
       "      <td>0</td>\n",
       "    </tr>\n",
       "    <tr>\n",
       "      <th>3</th>\n",
       "      <td>51.5154</td>\n",
       "      <td>-0.0726</td>\n",
       "      <td>Aldgate East</td>\n",
       "      <td>Aldgate&lt;br /&gt;East</td>\n",
       "      <td>1.0</td>\n",
       "      <td>2</td>\n",
       "      <td>0</td>\n",
       "    </tr>\n",
       "  </tbody>\n",
       "</table>\n",
       "</div>"
      ],
      "text/plain": [
       "    latitude  longitude          name       display_name  zone  total_lines  \\\n",
       "id                                                                            \n",
       "1    51.5028    -0.2801    Acton Town    Acton<br />Town   3.0            2   \n",
       "2    51.5143    -0.0755       Aldgate                NaN   1.0            2   \n",
       "3    51.5154    -0.0726  Aldgate East  Aldgate<br />East   1.0            2   \n",
       "\n",
       "    rail  \n",
       "id        \n",
       "1      0  \n",
       "2      0  \n",
       "3      0  "
      ]
     },
     "execution_count": 4,
     "metadata": {},
     "output_type": "execute_result"
    }
   ],
   "source": [
    "stations.head(3)"
   ]
  },
  {
   "cell_type": "code",
   "execution_count": 5,
   "metadata": {},
   "outputs": [
    {
     "data": {
      "text/html": [
       "<div>\n",
       "<style scoped>\n",
       "    .dataframe tbody tr th:only-of-type {\n",
       "        vertical-align: middle;\n",
       "    }\n",
       "\n",
       "    .dataframe tbody tr th {\n",
       "        vertical-align: top;\n",
       "    }\n",
       "\n",
       "    .dataframe thead th {\n",
       "        text-align: right;\n",
       "    }\n",
       "</style>\n",
       "<table border=\"1\" class=\"dataframe\">\n",
       "  <thead>\n",
       "    <tr style=\"text-align: right;\">\n",
       "      <th></th>\n",
       "      <th>station1</th>\n",
       "      <th>station2</th>\n",
       "      <th>line</th>\n",
       "      <th>time</th>\n",
       "    </tr>\n",
       "  </thead>\n",
       "  <tbody>\n",
       "    <tr>\n",
       "      <th>0</th>\n",
       "      <td>11</td>\n",
       "      <td>163</td>\n",
       "      <td>1</td>\n",
       "      <td>1</td>\n",
       "    </tr>\n",
       "    <tr>\n",
       "      <th>1</th>\n",
       "      <td>11</td>\n",
       "      <td>212</td>\n",
       "      <td>1</td>\n",
       "      <td>2</td>\n",
       "    </tr>\n",
       "    <tr>\n",
       "      <th>2</th>\n",
       "      <td>49</td>\n",
       "      <td>87</td>\n",
       "      <td>1</td>\n",
       "      <td>1</td>\n",
       "    </tr>\n",
       "  </tbody>\n",
       "</table>\n",
       "</div>"
      ],
      "text/plain": [
       "   station1  station2  line  time\n",
       "0        11       163     1     1\n",
       "1        11       212     1     2\n",
       "2        49        87     1     1"
      ]
     },
     "execution_count": 5,
     "metadata": {},
     "output_type": "execute_result"
    }
   ],
   "source": [
    "connections.head(3)"
   ]
  },
  {
   "cell_type": "markdown",
   "metadata": {},
   "source": [
    "After that we build up a graph:"
   ]
  },
  {
   "cell_type": "code",
   "execution_count": 13,
   "metadata": {},
   "outputs": [],
   "source": [
    "graph = nx.Graph()\n",
    "\n",
    "for connection_id, connection in connections.iterrows():\n",
    "    station1_name = stations.loc[connection['station1']]['name']\n",
    "    station2_name = stations.loc[connection['station2']]['name']\n",
    "    graph.add_edge(station1_name, station2_name, time = connection['time'])"
   ]
  },
  {
   "cell_type": "markdown",
   "metadata": {},
   "source": [
    "From this representation we can see how in fact the graph is connected"
   ]
  },
  {
   "cell_type": "code",
   "execution_count": 14,
   "metadata": {},
   "outputs": [
    {
     "data": {
      "text/plain": [
       "True"
      ]
     },
     "execution_count": 14,
     "metadata": {},
     "output_type": "execute_result"
    }
   ],
   "source": [
    "nx.is_connected(graph)"
   ]
  },
  {
   "cell_type": "markdown",
   "metadata": {},
   "source": [
    "It is now the time to ask ourselves what are the articulation vertices of the London Tube?"
   ]
  },
  {
   "cell_type": "code",
   "execution_count": 15,
   "metadata": {},
   "outputs": [
    {
     "data": {
      "text/plain": [
       "['Kenton',\n",
       " 'South Kenton',\n",
       " 'North Wembley',\n",
       " 'Wembley Central',\n",
       " 'Stonebridge Park',\n",
       " 'Harlesden',\n",
       " 'Willesden Junction',\n",
       " 'Kensal Green',\n",
       " \"Queen's Park\",\n",
       " 'Kilburn Park',\n",
       " 'Maida Vale',\n",
       " 'Warwick Avenue',\n",
       " 'Paddington',\n",
       " 'Ruislip Gardens',\n",
       " 'South Ruislip',\n",
       " 'Northolt',\n",
       " 'Greenford',\n",
       " 'Perivale',\n",
       " 'Hanger Lane',\n",
       " 'North Acton',\n",
       " 'Kew Gardens',\n",
       " 'Gunnersbury',\n",
       " 'Turnham Green',\n",
       " 'Theydon Bois',\n",
       " 'Debden',\n",
       " 'Loughton',\n",
       " 'Buckhurst Hill',\n",
       " 'Woodford',\n",
       " 'Leytonstone',\n",
       " 'Leyton',\n",
       " 'Stratford',\n",
       " 'Gallions Reach',\n",
       " 'Cyprus',\n",
       " 'Beckton Park',\n",
       " 'Royal Albert',\n",
       " 'Prince Regent',\n",
       " 'Custom House',\n",
       " 'Royal Victoria',\n",
       " 'Canning Town',\n",
       " 'Elverson Road',\n",
       " 'Deptford Bridge',\n",
       " 'Greenwich',\n",
       " 'Cutty Sark',\n",
       " 'Island Gardens',\n",
       " 'Mudchute',\n",
       " 'Crossharbour & London Arena',\n",
       " 'South Quay',\n",
       " 'Heron Quays',\n",
       " 'Canary Wharf',\n",
       " 'Shadwell',\n",
       " 'Surrey Quays',\n",
       " 'Canada Water',\n",
       " 'South Wimbledon',\n",
       " 'Colliers Wood',\n",
       " 'Tooting Broadway',\n",
       " 'Tooting Bec',\n",
       " 'Balham',\n",
       " 'Clapham South',\n",
       " 'Clapham Common',\n",
       " 'Clapham North',\n",
       " 'Stockwell',\n",
       " 'Whitechapel',\n",
       " 'Upminster Bridge',\n",
       " 'Hornchurch',\n",
       " 'Elm Park',\n",
       " 'Dagenham East',\n",
       " 'Dagenham Heathway',\n",
       " 'Becontree',\n",
       " 'Upney',\n",
       " 'Barking',\n",
       " 'East Ham',\n",
       " 'Upton Park',\n",
       " 'Plaistow',\n",
       " 'West Ham',\n",
       " 'Burnt Oak',\n",
       " 'Colindale',\n",
       " 'Hendon Central',\n",
       " 'Brent Cross',\n",
       " 'Golders Green',\n",
       " 'Hampstead',\n",
       " 'Belsize Park',\n",
       " 'Chalk Farm',\n",
       " 'Camden Town',\n",
       " 'Finchley Central',\n",
       " 'Totteridge & Whetstone',\n",
       " 'Woodside Park',\n",
       " 'West Finchley',\n",
       " 'East Finchley',\n",
       " 'Highgate',\n",
       " 'Archway',\n",
       " 'Tufnell Park',\n",
       " 'Kentish Town',\n",
       " 'Euston',\n",
       " 'Oakwood',\n",
       " 'Southgate',\n",
       " 'Arnos Grove',\n",
       " 'Bounds Green',\n",
       " 'Wood Green',\n",
       " 'Turnpike Lane',\n",
       " 'Manor House',\n",
       " 'Finsbury Park',\n",
       " 'Blackhorse Road',\n",
       " 'Tottenham Hale',\n",
       " 'Seven Sisters',\n",
       " \"King's Cross St. Pancras\",\n",
       " \"Earl's Court\",\n",
       " 'Wimbledon Park',\n",
       " 'Southfields',\n",
       " 'East Putney',\n",
       " 'Putney Bridge',\n",
       " 'Parsons Green',\n",
       " 'Fulham Broadway',\n",
       " 'West Brompton',\n",
       " 'Hatton Cross',\n",
       " 'Hounslow West',\n",
       " 'Hounslow Central',\n",
       " 'Hounslow East',\n",
       " 'Osterley',\n",
       " 'Boston Manor',\n",
       " 'Northfields',\n",
       " 'South Ealing',\n",
       " 'Acton Town',\n",
       " 'Hillingdon',\n",
       " 'Ickenham',\n",
       " 'Ruislip',\n",
       " 'Ruislip Manor',\n",
       " 'Eastcote',\n",
       " 'Rayners Lane',\n",
       " 'Canons Park',\n",
       " 'Queensbury',\n",
       " 'Kingsbury',\n",
       " 'Wembley Park',\n",
       " 'Croxley',\n",
       " 'Moor Park',\n",
       " 'Chalfont & Latimer',\n",
       " 'Chorleywood',\n",
       " 'Rickmansworth',\n",
       " 'Northwood',\n",
       " 'Northwood Hills',\n",
       " 'Pinner',\n",
       " 'North Harrow',\n",
       " 'Harrow-on-the-Hill']"
      ]
     },
     "execution_count": 15,
     "metadata": {},
     "output_type": "execute_result"
    }
   ],
   "source": [
    "list(nx.articulation_points(graph))"
   ]
  },
  {
   "cell_type": "markdown",
   "metadata": {},
   "source": [
    "How many are they ?"
   ]
  },
  {
   "cell_type": "code",
   "execution_count": 16,
   "metadata": {},
   "outputs": [
    {
     "data": {
      "text/plain": [
       "142"
      ]
     },
     "execution_count": 16,
     "metadata": {},
     "output_type": "execute_result"
    }
   ],
   "source": [
    "len(list(nx.articulation_points(graph)))"
   ]
  },
  {
   "cell_type": "markdown",
   "metadata": {},
   "source": [
    "Hence there exist $2^{142} = 5575186299632655785383929568162090376495104$ ways of disrupting the network. Quite a lot aren't they?"
   ]
  }
 ],
 "metadata": {
  "kernelspec": {
   "display_name": "london",
   "language": "python",
   "name": "london"
  },
  "language_info": {
   "codemirror_mode": {
    "name": "ipython",
    "version": 3
   },
   "file_extension": ".py",
   "mimetype": "text/x-python",
   "name": "python",
   "nbconvert_exporter": "python",
   "pygments_lexer": "ipython3",
   "version": "3.9.1"
  }
 },
 "nbformat": 4,
 "nbformat_minor": 1
}
